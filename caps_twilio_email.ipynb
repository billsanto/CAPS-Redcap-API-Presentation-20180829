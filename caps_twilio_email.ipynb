{
 "cells": [
  {
   "cell_type": "markdown",
   "metadata": {},
   "source": [
    "# Messaging with Email and the Twilio API\n",
    "\n",
    "- Some of the concepts here can be found in more depth on\n",
    "    - https://www.amazon.com/Data-Wrangling-Python-Tools-Easier/dp/1491948817/\n",
    "    - Free on the UCSF network: http://proquest.safaribooksonline.com/book/databases/9781491948804"
   ]
  },
  {
   "cell_type": "markdown",
   "metadata": {},
   "source": [
    "### Libaries we need\n",
    "- Note that to run this code in your own project, you must either\n",
    "    - Install the common.logs library into am appropriate location on your system (left as an exercise), or\n",
    "    - Comment out all the references to the logging facility, or\n",
    "    - Create your own logging function or library "
   ]
  },
  {
   "cell_type": "code",
   "execution_count": null,
   "metadata": {},
   "outputs": [],
   "source": [
    "import os\n",
    "import pandas as pd\n",
    "import time\n",
    "import pickle\n",
    "from datetime import datetime\n",
    "\n",
    "# Twilio library\n",
    "from twilio.rest import Client\n",
    "\n",
    "# email libraries\n",
    "import smtplib\n",
    "from email.mime.text import MIMEText\n",
    "from email.mime.multipart import MIMEMultipart\n",
    "from email.mime.application import MIMEApplication\n",
    "\n",
    "# Custom libraries\n",
    "from redcap.redcapy import Redcapy\n",
    "from common.logs import Logs"
   ]
  },
  {
   "cell_type": "markdown",
   "metadata": {},
   "source": [
    "## Twilio\n",
    "- API Documentation: https://www.twilio.com/docs/sms/api\n",
    "- To fully explore the capabilities of Twilio, please refer to documentation and/or call Twilio sales\n",
    "- Please refer to presentation slides for more details\n",
    "- To install the Python twilio library: pip install twilio\n",
    "- Library reference: https://www.twilio.com/docs/libraries/python"
   ]
  },
  {
   "cell_type": "markdown",
   "metadata": {},
   "source": [
    "### Documenting Production Code Execution\n",
    "\n",
    "For running production code unattended, it is important to document key aspects of your code execution.  \n",
    "- Useful for auditing purposes\n",
    "- Useful for troubleshooting\n",
    "\n",
    "- If executing a notebook, you can save a copy of the notebook.\n",
    "\n",
    "- If executing a script, you can:\n",
    " - Print to standard output, and results will be saved in mail (not ideal, but better than nothing)\n",
    " - Save select results to a log\n",
    " \n",
    "Even for notebook execution, a log is helpful for searching in one place through the complete history of that code's execution\n"
   ]
  },
  {
   "cell_type": "markdown",
   "metadata": {},
   "source": [
    "### Setup a logging facility\n",
    "- This example uses a custom library (imported above) than handles some basics, so the use of a log is relatively straightforward for any program\n",
    "- For a complete understanding of how to use logging, please review external documentation.  Recommendations:\n",
    " - https://fangpenlin.com/posts/2012/08/26/good-logging-practice-in-python/\n",
    " - https://docs.python.org/3.7/library/logging.html\n",
    " \n",
    "- As we execute code in this notebook, we can check the log in a terminal window\n",
    " - A useful way to monitor changes to any file, such as a log, can be done with the linux command tail -f\n",
    " - We will return to this log as we execute code later"
   ]
  },
  {
   "cell_type": "code",
   "execution_count": null,
   "metadata": {},
   "outputs": [],
   "source": [
    "log_dir = 'logs'  # define a folder name, relative to the current working directory\n",
    "log_instance = Logs(log_dir=log_dir, log_filename='caps_{}.log'.format('copy'), level='DEBUG')\n",
    "logger = log_instance.logger"
   ]
  },
  {
   "cell_type": "markdown",
   "metadata": {},
   "source": [
    "### Set Pandas options"
   ]
  },
  {
   "cell_type": "code",
   "execution_count": null,
   "metadata": {},
   "outputs": [],
   "source": [
    "pd.options.display.max_columns = 200\n",
    "pd.options.display.max_rows = 200"
   ]
  },
  {
   "cell_type": "markdown",
   "metadata": {},
   "source": [
    "### Initialize SMTP to Send Email\n",
    "- In a production scenario, you may want to use a resource email account rather than your work address.  \n",
    "    - A resource account will persist after you leave UCSF employment\n",
    "    - Contact the IT Help Desk to request an account\n",
    "- UCSF Settings: https://it.ucsf.edu/services/site-email/tutorial/ucsf-email-pop-and-imap-settings?page=show\n",
    "- References:\n",
    "    - https://www.pythonforbeginners.com/code-snippets-source-code/using-python-to-send-email/\n",
    "    - https://stackoverflow.com/questions/3362600/how-to-send-email-attachments\n",
    "    - https://stackoverflow.com/questions/31433633/reply-to-email-using-python-3-4\n",
    "    - https://stackoverflow.com/questions/24672079/send-email-using-smtp-ssl-port-465\n",
    "    - https://stackoverflow.com/questions/16968758/sending-email-to-a-microsoft-exchange-group-using-python"
   ]
  },
  {
   "cell_type": "code",
   "execution_count": null,
   "metadata": {},
   "outputs": [],
   "source": [
    "# Common Elements\n",
    "email_server_name = 'smtp.office365.com'\n",
    "email_server_port = '587'\n",
    "use_ssl = True\n",
    "address_book = [os.environ['BEECON3_EMAIL_RECIPIENTS_TEST']]  # list of addresses\n",
    "sender = os.environ['SERVER_EMAIL_ID']\n",
    "sender_pw = os.environ['SERVER_EMAIL_PW']\n",
    "\n",
    "def send_email(subject, body):\n",
    "    msg = MIMEMultipart()    \n",
    "\n",
    "    # email_server = email_server_name if not email_server_port else email_server_name + email_server_port\n",
    "    email_server = ':'.join([email_server_name, email_server_port])\n",
    "\n",
    "    msg['From'] = sender\n",
    "    msg['Reply-To'] = sender\n",
    "    msg['To'] = ','.join(address_book)\n",
    "    msg['Subject'] = subject\n",
    "\n",
    "    msg.attach(MIMEText(body, 'plain'))\n",
    "    text = msg.as_string()\n",
    "\n",
    "    # print(text)\n",
    "    try:\n",
    "        s = smtplib.SMTP(email_server)\n",
    "        s.starttls() if use_ssl else None\n",
    "        s.login(sender, sender_pw)\n",
    "        s.sendmail(sender, address_book, msg.as_string())\n",
    "        print('Email sent to {}'.format(', '.join(address_book)))\n",
    "    except Exception as e:\n",
    "        smtp_msg = 'Unable to Send email.  Error: {}'.format(e)\n",
    "        print(smtp_msg)\n",
    "    finally:\n",
    "        s.quit() if 's' in locals() else None    "
   ]
  },
  {
   "cell_type": "markdown",
   "metadata": {},
   "source": [
    "### Initialize Twilio\n",
    "- Download the helper library from https://www.twilio.com/docs/python/install"
   ]
  },
  {
   "cell_type": "code",
   "execution_count": null,
   "metadata": {},
   "outputs": [],
   "source": [
    "# Your Account Sid and Auth Token from twilio.com/console\n",
    "account_sid = os.environ['TWILIO_SID']\n",
    "auth_token = os.environ['TWILIO_TOKEN']\n",
    "client = Client(account_sid, auth_token)"
   ]
  },
  {
   "cell_type": "markdown",
   "metadata": {},
   "source": [
    "## Objective: Send Follow Up Message to Participants Who Completed 6 Month Exam \n",
    "\n",
    "To do this, we need to filter out those who have completed the 12 Month Exam already.\n",
    "\n",
    "Normally, a task such as this would occur within a well-defined window after the visit or some activity occurred"
   ]
  },
  {
   "cell_type": "markdown",
   "metadata": {},
   "source": [
    "### First, restore our DataFrame from the Redcapy notebook demo"
   ]
  },
  {
   "cell_type": "code",
   "execution_count": null,
   "metadata": {},
   "outputs": [],
   "source": [
    "%store -r caps_combined_df\n",
    "combined_df = caps_combined_df\n",
    "combined_df"
   ]
  },
  {
   "cell_type": "markdown",
   "metadata": {},
   "source": [
    "### Create a list of those who completed the 12 month visit"
   ]
  },
  {
   "cell_type": "code",
   "execution_count": null,
   "metadata": {},
   "outputs": [],
   "source": [
    "id_to_m12_complete = list(combined_df[(combined_df.exam_complete == '2') & \n",
    "                    ((combined_df.redcap_event_name == '12_month_arm_2') | \n",
    "                     (combined_df.redcap_event_name == '12_month_arm_3'))]['record_id'].values)\n",
    "id_to_m12_complete"
   ]
  },
  {
   "cell_type": "markdown",
   "metadata": {},
   "source": [
    "### Filter the DataFrame to those who completed the 6M exam but not the 12M exam\n",
    "- Note that multiple conditions in a DataFrame filter require parentheses and & | operators.\n",
    "- Negation is done with a ~ operator\n",
    "- When checking if elements of a series are contained in a list, use isin()"
   ]
  },
  {
   "cell_type": "code",
   "execution_count": null,
   "metadata": {},
   "outputs": [],
   "source": [
    "m6_complete_df = combined_df[(combined_df.exam_complete == '2') & \n",
    "                             ((combined_df.redcap_event_name == '6_month_arm_2') | \n",
    "                              (combined_df.redcap_event_name == '6_month_arm_3')) &\n",
    "                             ~combined_df.record_id.isin(id_to_m12_complete)\n",
    "                            ]\n",
    "m6_complete_df"
   ]
  },
  {
   "cell_type": "markdown",
   "metadata": {},
   "source": [
    "### Create a dict of IDs to phone numbers\n",
    "- Recall phone numbers are recorded at the baseline event.  Hence, they are not contained in the 6M DataFrame\n",
    "- Here, we use a combination of dict and zip to pair corresponding ids and numbers from the DF to a dict\n",
    "- zip ref: https://stackoverflow.com/questions/13704860/zip-lists-in-python"
   ]
  },
  {
   "cell_type": "code",
   "execution_count": null,
   "metadata": {},
   "outputs": [],
   "source": [
    "baseline_df = combined_df[combined_df.redcap_event_name == 'baseline_arm_1']\n",
    "id_to_mobile = dict(zip(baseline_df.record_id, baseline_df.part_mobile_number))\n",
    "id_to_mobile"
   ]
  },
  {
   "cell_type": "markdown",
   "metadata": {},
   "source": [
    "### Similarly with names"
   ]
  },
  {
   "cell_type": "code",
   "execution_count": null,
   "metadata": {},
   "outputs": [],
   "source": [
    "id_to_first_name = dict(zip(baseline_df.record_id, baseline_df.part_first_name))\n",
    "id_to_first_name"
   ]
  },
  {
   "cell_type": "markdown",
   "metadata": {},
   "source": [
    "### Set up a directory for pickling the status DataFrame\n",
    "- Unlike the %store magic command, pickle gives us precise control over the storage location\n",
    "- Use os.makedirs to create a folder that doesn't exist"
   ]
  },
  {
   "cell_type": "code",
   "execution_count": null,
   "metadata": {},
   "outputs": [],
   "source": [
    "pickle_dir = os.getcwd()\n",
    "pickle_file = 'sms_df.pickle'\n",
    "\n",
    "try:\n",
    "    os.makedirs(pickle_dir) if not os.path.exists(pickle_dir) else None\n",
    "    pickle_file_full_path = os.path.join(pickle_dir, pickle_file)\n",
    "\n",
    "except Exception as e:\n",
    "    msg = 'Unable to create or access pickle directory: {}.  Error: {}'.format(pickle_dir, e)\n",
    "    logger.error(msg)"
   ]
  },
  {
   "cell_type": "markdown",
   "metadata": {},
   "source": [
    "### Function to convert Twilio datetime objects to local timezone\n",
    "- We can use an environment variable to set the datetime\n",
    "- https://docs.python.org/3/library/datetime.html#strftime-strptime-behavior\n",
    "- http://strftime.org/\n",
    "- You may or may not want to convert timestamps to a local timezone, depending on your needs"
   ]
  },
  {
   "cell_type": "code",
   "execution_count": null,
   "metadata": {},
   "outputs": [],
   "source": [
    "timezone = os.environ['TIMEZONE_SERVER']\n",
    "\n",
    "def localize_twilio_dt(dt, tz=timezone):\n",
    "    if isinstance(dt, datetime):\n",
    "        return pd.Timestamp(dt).tz_convert(tz)\n",
    "    else:\n",
    "        # Add type checking as needed\n",
    "        print('Failed to convert datetime timezone to {}'.format(tz))\n",
    "        return dt\n",
    "        # raise ValueError('Only a datetime object can be localized with this function')\n",
    "        \n",
    "timezone"
   ]
  },
  {
   "cell_type": "markdown",
   "metadata": {},
   "source": [
    "### Send SMS\n",
    "- This is adapted from the Twilio sample code\n",
    "    - https://www.twilio.com/docs/sms/send-messages\n",
    "- Initialize a DataFrame to capture delivery status\n",
    "- Append to the DataFrame one row at a time using .loc\n",
    "- Pickle the DataFrame one row at a time if performance is not an issue\n",
    "    - This technique will allow you to recover the state of messages sent, with SIDs, in the event of code failure and status needs to be rechecked on a subsequent code session\n",
    "    - By checking delivery, you can avoid resending texts to those who have already received the SMS, while focusing on sending to those who did not receive it on the prior attempt"
   ]
  },
  {
   "cell_type": "code",
   "execution_count": null,
   "metadata": {},
   "outputs": [],
   "source": [
    "message_dict = {} \n",
    "status_keys = ['txt_mobile_number',\n",
    "               'txt_twilio_sid',\n",
    "               'txt_twilio_error_code',\n",
    "               'txt_twilio_error_msg',\n",
    "               'txt_twilio_status',\n",
    "               'txt_date_created',\n",
    "               'txt_date_updated',\n",
    "               'txt_message',               \n",
    "               'record_id',\n",
    "               'redcap_event_name',\n",
    "               'redcap_repeat_instrument',\n",
    "               'redcap_repeat_instance',\n",
    "               'sms_survey_log_complete',\n",
    "              ]\n",
    "\n",
    "sms_df = pd.DataFrame(columns=status_keys)\n",
    "\n",
    "for i, row in m6_complete_df.iterrows():\n",
    "    message = ''\n",
    "    phone = '+1' + id_to_mobile[row.record_id]\n",
    "    phone = '+15129202947'  #TODO\n",
    "    \n",
    "    name = id_to_first_name[row.record_id]\n",
    "    \n",
    "    sms_body = 'Thanks {} for completing the 6 month exam. '.format(name)\n",
    "    sms_body += 'See you soon at your final visit'    \n",
    "    \n",
    "    # Initialize dict to capture status details\n",
    "    message_dict = {}\n",
    "    message_dict.update({\n",
    "        'record_id': row.record_id,\n",
    "        'redcap_event_name': row.redcap_event_name,\n",
    "        'redcap_repeat_instrument': row.redcap_repeat_instrument,\n",
    "        'redcap_repeat_instance': row.redcap_repeat_instance,\n",
    "        'txt_mobile_number': phone,\n",
    "        'txt_twilio_sid': '',\n",
    "        'txt_twilio_error_code': '',\n",
    "        'txt_twilio_error_msg': '',\n",
    "        'txt_twilio_status': 'attempting',\n",
    "        'txt_date_created': pd.Timestamp(datetime.utcnow()).tz_localize('UTC'),\n",
    "        'txt_date_updated': pd.Timestamp(datetime.utcnow()).tz_localize('UTC'),\n",
    "        'txt_message': sms_body,\n",
    "    })    \n",
    "\n",
    "    time.sleep(2)\n",
    "    connected = False\n",
    "    \n",
    "    try:\n",
    "        # API Call to TWilio to send SMS\n",
    "        message = client.messages.create(from_=os.environ['BEECON3_FROM_ADMIN_PHONE'],\n",
    "                                         body=sms_body,\n",
    "                                         to=phone,\n",
    "                                        )\n",
    "        message_dict.update({\n",
    "            'txt_twilio_sid': message.sid,\n",
    "            'txt_twilio_error_code': '' if not message.error_code else message.error_code,\n",
    "            'txt_twilio_error_msg': '' if not message.error_message else message.error_message,\n",
    "            'txt_twilio_status': message.status,\n",
    "            'txt_date_created': localize_twilio_dt(message.date_created),\n",
    "            'txt_date_updated': localize_twilio_dt(message.date_updated),\n",
    "        })    \n",
    "        msg = 'ID: {}, SID {}, Sent 6 Month SMS and received initial response from TWilio'.format(row.record_id,\n",
    "                                                                                                  message.sid,\n",
    "                                                                                                 )\n",
    "        logger.info(msg)\n",
    "        print(msg)\n",
    "        connected = True\n",
    "    except Exception as e:\n",
    "        msg = 'ID: {}, Failed to send SMS. Error {}'.format(row.record_id, e)\n",
    "        logger.error(msg)\n",
    "        print(msg)\n",
    "        \n",
    "    # Note, appending a row to a DataFrame efficiently is tricky\n",
    "    row_df = pd.DataFrame([message_dict])\n",
    "    sms_df.loc[i, row_df.columns.tolist()] = row_df.values\n",
    "    \n",
    "    # Note pickle restorations will use the undated pickle, but we are saving a datestamped pickle as a backup\n",
    "    #  in the event a restore is needed from an older overwritten pickle\n",
    "    try:\n",
    "        print('Storing sms_df pickle')\n",
    "        if sms_df.shape[0] > 0:\n",
    "            pickle.dump(sms_df, open(pickle_file_full_path, 'wb'))\n",
    "            pickle.dump(sms_df,\n",
    "                        open(os.path.join(pickle_dir, datetime.now().date().strftime('%Y%m%d') + '_'\n",
    "                                          + pickle_file), 'wb'))\n",
    "            \n",
    "            msg = 'Stored sms_df to pickle file {}'.format(pickle_file_full_path)\n",
    "            logger.info(msg)\n",
    "            print(msg)\n",
    "        else:\n",
    "            msg = 'sms_df not stored to pickle file due to 0 length'\n",
    "            logger.info(msg)\n",
    "            print(msg)\n",
    "    except Exception as e:\n",
    "        msg = 'Unable to store sms_df to simple or date-stamped pickle files {}. '.format(\n",
    "            pickle_file_full_path) \n",
    "        msg += 'Continuing code execution. Error returned: {}'.format(e)\n",
    "        \n",
    "        logger.error(msg)\n",
    "    \n",
    "    msg = 'ID: {}, phone: {}, SID: {}, Attempted 6 Month follow up SMS'.format(row.record_id,\n",
    "                                                                               row.part_mobile_number,\n",
    "                                                                               message.sid if message else '',\n",
    "                                                                              )\n",
    "    if connected:\n",
    "        logger.info(msg)\n",
    "        print(msg)\n",
    "\n",
    "sms_df"
   ]
  },
  {
   "cell_type": "markdown",
   "metadata": {},
   "source": [
    "### Check Status of Delivery Attempts\n",
    "- Normally, you may want to pause before checking status to allow the carrier to update Twilio with delivery status\n",
    "- You may also want to create a loop to implement several attempts at checking before abandoning\n",
    "- Set the form completion status to complete\n",
    "- Ref: https://www.twilio.com/docs/sms/api/message#fetch-a-message-resource"
   ]
  },
  {
   "cell_type": "code",
   "execution_count": null,
   "metadata": {},
   "outputs": [],
   "source": [
    "time.sleep(1)  # Set to a more reasonable number than 1 second\n",
    "\n",
    "for i, row in sms_df.iterrows():\n",
    "    if row.txt_twilio_sid:\n",
    "        try:\n",
    "            tm = client.messages(row.txt_twilio_sid).fetch()  # API Call to Twilio\n",
    "\n",
    "            msg = 'ID: {}, Received status of {} for SID {}'.format(row.record_id,\n",
    "                                                                    tm.status,\n",
    "                                                                    row.txt_twilio_sid,\n",
    "                                                                   )\n",
    "            logger.info(msg)\n",
    "            print(msg)\n",
    "        except Exception as e:\n",
    "            msg = 'Unable to connect to Twilio to check delivery status for ID {}'.format(row.record_id)\n",
    "            logger.error(msg)\n",
    "            print(msg)\n",
    "        \n",
    "        sms_df.loc[i, 'txt_twilio_status'] = tm.status\n",
    "        sms_df.loc[i, 'txt_date_created'] = localize_twilio_dt(tm.date_created).strftime('%Y-%m-%d %H:%M:%S')        \n",
    "        sms_df.loc[i, 'txt_date_updated'] = localize_twilio_dt(tm.date_updated).strftime('%Y-%m-%d %H:%M:%S')\n",
    "        sms_df.loc[i, 'txt_twilio_error_code'] = '' if not tm.error_code else tm.error_code \n",
    "        sms_df.loc[i, 'txt_twilio_error_msg'] = '' if not tm.error_message else tm.error_message\n",
    "        sms_df.loc[i, 'sms_survey_log_complete'] = '2'\n",
    "\n",
    "sms_df"
   ]
  },
  {
   "cell_type": "markdown",
   "metadata": {},
   "source": [
    "### DataFrame is now suitable for import into Redcap"
   ]
  },
  {
   "cell_type": "code",
   "execution_count": null,
   "metadata": {},
   "outputs": [],
   "source": [
    "redcap_token = os.environ['REDCAP_API_CAPS_DEMO']\n",
    "redcap_url = os.environ['REDCAP_URL']\n",
    "\n",
    "rci = Redcapy(api_token=redcap_token, redcap_url=redcap_url)"
   ]
  },
  {
   "cell_type": "markdown",
   "metadata": {},
   "source": [
    "### Redcap import function\n",
    "- Now includes the current timestamp on import\n",
    "- Wrapped import in try/except block\n",
    "- Added logging"
   ]
  },
  {
   "cell_type": "code",
   "execution_count": null,
   "metadata": {},
   "outputs": [],
   "source": [
    "def import_to_redcap(redcap_instance, df_to_upload, overwrite=False):\n",
    "    import_success_count = 0\n",
    "    import_attempt_count = 0\n",
    "    \n",
    "    overwrite_behavior = 'overwrite' if overwrite else 'normal'\n",
    "    \n",
    "    for i, row in df_to_upload.iterrows():\n",
    "        row['txt_last_timestamp'] = datetime.now().strftime('%Y/%m/%d %H:%M:%S')\n",
    "        record_to_upload = row.to_json(orient='columns')\n",
    "        \n",
    "        try:\n",
    "            import_attempt_count += 1\n",
    "\n",
    "            # Below will return {'count': 1} if successful\n",
    "            import_return = redcap_instance.import_records(data_to_upload=record_to_upload, \n",
    "                                                           overwriteBehavior=overwrite_behavior)  \n",
    "            import_success_count += 1 if 'count' in import_return and import_return['count'] == 1 else 0\n",
    "            \n",
    "            msg = 'Imported record id {}, event {} to Redcap'.format(row.record_id,\n",
    "                                                                     row.redcap_event_name,)\n",
    "            logger.info(msg)\n",
    "        except Exception as e:\n",
    "            msg = 'Unable to import record id {}, event {} to Redcap.  Error {}'.format(row.record_id,\n",
    "                                                                                        row.redcap_event_name,\n",
    "                                                                                        e,\n",
    "                                                                                       )\n",
    "            logger.error(msg)\n",
    "            print(msg)\n",
    "    \n",
    "    subject = ('Demo Import Succeeded' if import_attempt_count == import_success_count \n",
    "               else 'Error on Demo Import')\n",
    "    body = 'Imported {} of {} attempts at {}'.format(import_success_count,\n",
    "                                                     import_attempt_count,\n",
    "                                                     datetime.now().strftime('%Y/%m/%d %H:%M:%S')\n",
    "                                                    )\n",
    "    send_email(subject=subject, body=body)\n",
    "                    \n",
    "    return import_success_count, import_attempt_count"
   ]
  },
  {
   "cell_type": "code",
   "execution_count": null,
   "metadata": {},
   "outputs": [],
   "source": [
    "success_count, total_count = import_to_redcap(rci, sms_df)\n",
    "success_count, total_count, success_count == total_count"
   ]
  },
  {
   "cell_type": "markdown",
   "metadata": {},
   "source": [
    "### When ready, uncomment the following code to delete all records from Redcap\n",
    "- Modify the list of record ids to delete as needed"
   ]
  },
  {
   "cell_type": "code",
   "execution_count": null,
   "metadata": {},
   "outputs": [],
   "source": [
    "ids_to_delete = [14,15,16,17,]\n",
    "\n",
    "# for i in ids_to_delete:\n",
    "#     try:\n",
    "#         print(i, rci.delete_record(id_to_delete=str(i)))\n",
    "#     except Exception as e:\n",
    "#         print('ID ' + str(i) + ': ', e)"
   ]
  },
  {
   "cell_type": "markdown",
   "metadata": {},
   "source": [
    "# Congratulations!\n",
    "\n",
    "You are now on the path to:\n",
    "- Communicate directly with study participants via email or SMS\n",
    "- Record the status of participant communications in Redcap\n",
    "- Comminicate reports or status with research staff, investigators, project manager, or yourself\n",
    "- Save the state of Python objects using a pickle or %store to\n",
    "    - Recover data from a prior session\n",
    "    - Share data across notebooks\n",
    "    - Conserve Redcap server resources\n",
    "- Log code execution status and errors and review the logs\n",
    "- Learn more Python, or adapt these concepts to R, SAS, or your favorite language"
   ]
  }
 ],
 "metadata": {
  "kernelspec": {
   "display_name": "Python 3",
   "language": "python",
   "name": "python3"
  },
  "language_info": {
   "codemirror_mode": {
    "name": "ipython",
    "version": 3
   },
   "file_extension": ".py",
   "mimetype": "text/x-python",
   "name": "python",
   "nbconvert_exporter": "python",
   "pygments_lexer": "ipython3",
   "version": "3.5.2"
  }
 },
 "nbformat": 4,
 "nbformat_minor": 2
}
